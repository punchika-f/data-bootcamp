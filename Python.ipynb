{
  "nbformat": 4,
  "nbformat_minor": 0,
  "metadata": {
    "colab": {
      "provenance": [],
      "authorship_tag": "ABX9TyOrvyXCFPQatdcMYjESHE25",
      "include_colab_link": true
    },
    "kernelspec": {
      "name": "python3",
      "display_name": "Python 3"
    },
    "language_info": {
      "name": "python"
    }
  },
  "cells": [
    {
      "cell_type": "markdown",
      "metadata": {
        "id": "view-in-github",
        "colab_type": "text"
      },
      "source": [
        "<a href=\"https://colab.research.google.com/github/punchika-f/data-bootcamp/blob/main/Python.ipynb\" target=\"_parent\"><img src=\"https://colab.research.google.com/assets/colab-badge.svg\" alt=\"Open In Colab\"/></a>"
      ]
    },
    {
      "cell_type": "code",
      "source": [],
      "metadata": {
        "id": "hgbffKpIUbb4"
      },
      "execution_count": null,
      "outputs": []
    },
    {
      "cell_type": "markdown",
      "source": [
        "#Python Programming 101\n",
        "1. variable\n",
        "2. data type\n",
        "3. data structure\n",
        "4. control flow\n",
        "5. function"
      ],
      "metadata": {
        "id": "MtdCZ1GlUmXk"
      }
    },
    {
      "cell_type": "code",
      "source": [
        "# variable\n",
        "1+1"
      ],
      "metadata": {
        "colab": {
          "base_uri": "https://localhost:8080/"
        },
        "id": "RYyBLDPHUppj",
        "outputId": "85faec1b-2c8c-49cc-f81f-1bca13be5f4b"
      },
      "execution_count": null,
      "outputs": [
        {
          "output_type": "execute_result",
          "data": {
            "text/plain": [
              "2"
            ]
          },
          "metadata": {},
          "execution_count": 5
        }
      ]
    },
    {
      "cell_type": "code",
      "source": [
        "10%4"
      ],
      "metadata": {
        "colab": {
          "base_uri": "https://localhost:8080/"
        },
        "id": "nUwfR_jsVYNx",
        "outputId": "40ba274a-2ec2-4297-b404-43dceba64fe9"
      },
      "execution_count": null,
      "outputs": [
        {
          "output_type": "execute_result",
          "data": {
            "text/plain": [
              "2"
            ]
          },
          "metadata": {},
          "execution_count": 6
        }
      ]
    },
    {
      "cell_type": "code",
      "source": [
        "# variables\n",
        "\n",
        "x = 100\n",
        "y = 200\n",
        "print(x+y)"
      ],
      "metadata": {
        "colab": {
          "base_uri": "https://localhost:8080/"
        },
        "id": "iJQRFaUNasoM",
        "outputId": "42a1eeb6-fad0-4d4f-b3b0-7a4502359b3b"
      },
      "execution_count": null,
      "outputs": [
        {
          "output_type": "stream",
          "name": "stdout",
          "text": [
            "300\n"
          ]
        }
      ]
    },
    {
      "cell_type": "code",
      "source": [
        "#naming variable -> snake case\n",
        "my_name = \"Fai\"\n",
        "my_age = 26\n",
        "economics_gpa = 3.55\n",
        "netflix = True"
      ],
      "metadata": {
        "id": "wWoZq5j4buPr"
      },
      "execution_count": null,
      "outputs": []
    },
    {
      "cell_type": "code",
      "source": [
        "print(my_name, economics_gpa, netflix)"
      ],
      "metadata": {
        "colab": {
          "base_uri": "https://localhost:8080/"
        },
        "id": "m2G7ISWAcVQ0",
        "outputId": "c23fdf68-3634-4514-c405-33cbf89c7976"
      },
      "execution_count": null,
      "outputs": [
        {
          "output_type": "stream",
          "name": "stdout",
          "text": [
            "Fai 3.55 True\n"
          ]
        }
      ]
    },
    {
      "cell_type": "code",
      "source": [
        "print(\"Hello!\", \"My name is\", \"Faii\")"
      ],
      "metadata": {
        "colab": {
          "base_uri": "https://localhost:8080/"
        },
        "id": "KJfAdTNjcbRo",
        "outputId": "febbb2bc-4618-4c27-88e1-8777060a71ef"
      },
      "execution_count": null,
      "outputs": [
        {
          "output_type": "stream",
          "name": "stdout",
          "text": [
            "Hello! My name is Faii\n"
          ]
        }
      ]
    },
    {
      "cell_type": "code",
      "source": [
        "## create multiple variable\n",
        "x, y, z = 100, 200, 300\n",
        "print(x, y, z)"
      ],
      "metadata": {
        "colab": {
          "base_uri": "https://localhost:8080/"
        },
        "id": "s8ZYwlZjc0dF",
        "outputId": "0855bc1e-5e25-45a6-e123-b796ea3aee05"
      },
      "execution_count": null,
      "outputs": [
        {
          "output_type": "stream",
          "name": "stdout",
          "text": [
            "100 200 300\n"
          ]
        }
      ]
    },
    {
      "cell_type": "code",
      "source": [
        "## replace value\n",
        "my_name = \"faii\"\n",
        "my_name = \"Faii\"\n",
        "print(my_name)"
      ],
      "metadata": {
        "colab": {
          "base_uri": "https://localhost:8080/"
        },
        "id": "4Gu5ADOGdGYc",
        "outputId": "3abc33f3-0c8c-41ce-aa84-86ccf2924e8d"
      },
      "execution_count": null,
      "outputs": [
        {
          "output_type": "stream",
          "name": "stdout",
          "text": [
            "Faii\n"
          ]
        }
      ]
    },
    {
      "cell_type": "code",
      "source": [
        "## remove variable\n",
        "del my_name"
      ],
      "metadata": {
        "id": "rQWeRERFdrWg"
      },
      "execution_count": null,
      "outputs": []
    },
    {
      "cell_type": "code",
      "source": [
        "## convert data type\n",
        "bool(0)"
      ],
      "metadata": {
        "colab": {
          "base_uri": "https://localhost:8080/"
        },
        "id": "GOPj2O5kd_eu",
        "outputId": "37ab1744-3829-47b3-d782-a684ab7a0819"
      },
      "execution_count": null,
      "outputs": [
        {
          "output_type": "execute_result",
          "data": {
            "text/plain": [
              "False"
            ]
          },
          "metadata": {},
          "execution_count": 14
        }
      ]
    },
    {
      "cell_type": "code",
      "source": [
        "str(300)"
      ],
      "metadata": {
        "colab": {
          "base_uri": "https://localhost:8080/",
          "height": 35
        },
        "id": "X_Moq0TxepZ5",
        "outputId": "5ab7740c-63ef-4173-a6a4-8106eff9d903"
      },
      "execution_count": null,
      "outputs": [
        {
          "output_type": "execute_result",
          "data": {
            "text/plain": [
              "'300'"
            ],
            "application/vnd.google.colaboratory.intrinsic+json": {
              "type": "string"
            }
          },
          "metadata": {},
          "execution_count": 15
        }
      ]
    },
    {
      "cell_type": "code",
      "source": [
        "int(555)"
      ],
      "metadata": {
        "colab": {
          "base_uri": "https://localhost:8080/"
        },
        "id": "yBVDMO3besCM",
        "outputId": "8c4aadd0-779d-412b-ea09-1982a1cbc3e8"
      },
      "execution_count": null,
      "outputs": [
        {
          "output_type": "execute_result",
          "data": {
            "text/plain": [
              "555"
            ]
          },
          "metadata": {},
          "execution_count": 16
        }
      ]
    },
    {
      "cell_type": "code",
      "source": [
        "float(\"3.41\")"
      ],
      "metadata": {
        "colab": {
          "base_uri": "https://localhost:8080/"
        },
        "id": "ZRnMttGCeu6E",
        "outputId": "5b03a1bd-6429-4a5e-91d2-ce3455e78124"
      },
      "execution_count": null,
      "outputs": [
        {
          "output_type": "execute_result",
          "data": {
            "text/plain": [
              "3.41"
            ]
          },
          "metadata": {},
          "execution_count": 17
        }
      ]
    },
    {
      "cell_type": "code",
      "source": [
        "input(\"What's your name : \")"
      ],
      "metadata": {
        "colab": {
          "base_uri": "https://localhost:8080/",
          "height": 52
        },
        "id": "DP81Q78Iex4x",
        "outputId": "6139331e-2ac7-416c-9df3-91a11df78856"
      },
      "execution_count": null,
      "outputs": [
        {
          "name": "stdout",
          "output_type": "stream",
          "text": [
            "What's your name : faii\n"
          ]
        },
        {
          "output_type": "execute_result",
          "data": {
            "text/plain": [
              "'faii'"
            ],
            "application/vnd.google.colaboratory.intrinsic+json": {
              "type": "string"
            }
          },
          "metadata": {},
          "execution_count": 18
        }
      ]
    },
    {
      "cell_type": "code",
      "source": [
        "input(\"What's your name : \")"
      ],
      "metadata": {
        "colab": {
          "base_uri": "https://localhost:8080/",
          "height": 52
        },
        "id": "EIOCQBSSfPOH",
        "outputId": "412ae27a-eb68-4d00-c9ee-022f8e64ced1"
      },
      "execution_count": null,
      "outputs": [
        {
          "name": "stdout",
          "output_type": "stream",
          "text": [
            "What's your name : โฟรร\n"
          ]
        },
        {
          "output_type": "execute_result",
          "data": {
            "text/plain": [
              "'โฟรร'"
            ],
            "application/vnd.google.colaboratory.intrinsic+json": {
              "type": "string"
            }
          },
          "metadata": {},
          "execution_count": 19
        }
      ]
    },
    {
      "cell_type": "code",
      "source": [
        "age = int(input(\"What's your age : \"))"
      ],
      "metadata": {
        "colab": {
          "base_uri": "https://localhost:8080/"
        },
        "id": "OBYhCTIrfTSU",
        "outputId": "06a77521-be2e-439b-a448-9c7648d2eb6f"
      },
      "execution_count": null,
      "outputs": [
        {
          "name": "stdout",
          "output_type": "stream",
          "text": [
            "What's your age : 26\n"
          ]
        }
      ]
    },
    {
      "cell_type": "code",
      "source": [
        "print(age,type(age))"
      ],
      "metadata": {
        "colab": {
          "base_uri": "https://localhost:8080/"
        },
        "id": "K2s9TD9lf1FO",
        "outputId": "feeacf0b-b0c0-46d5-bc02-6f2351684467"
      },
      "execution_count": null,
      "outputs": [
        {
          "output_type": "stream",
          "name": "stdout",
          "text": [
            "26 <class 'int'>\n"
          ]
        }
      ]
    },
    {
      "cell_type": "code",
      "source": [
        "500+1000"
      ],
      "metadata": {
        "colab": {
          "base_uri": "https://localhost:8080/"
        },
        "id": "9gDMnGuDf5Ng",
        "outputId": "c62912a1-c69a-4676-937b-58ed946b97cc"
      },
      "execution_count": null,
      "outputs": [
        {
          "output_type": "execute_result",
          "data": {
            "text/plain": [
              "1500"
            ]
          },
          "metadata": {},
          "execution_count": 23
        }
      ]
    },
    {
      "cell_type": "code",
      "source": [
        "\"500\" + \"1000\""
      ],
      "metadata": {
        "colab": {
          "base_uri": "https://localhost:8080/",
          "height": 35
        },
        "id": "LYWiQ-6DsXL0",
        "outputId": "91f6fa23-64ea-4dce-bbc5-f05bfca5fc81"
      },
      "execution_count": null,
      "outputs": [
        {
          "output_type": "execute_result",
          "data": {
            "text/plain": [
              "'5001000'"
            ],
            "application/vnd.google.colaboratory.intrinsic+json": {
              "type": "string"
            }
          },
          "metadata": {},
          "execution_count": 24
        }
      ]
    },
    {
      "cell_type": "code",
      "source": [
        "int(\"500\")+int(\"1000\")"
      ],
      "metadata": {
        "colab": {
          "base_uri": "https://localhost:8080/"
        },
        "id": "KsBqjWPesbB4",
        "outputId": "f26e38b6-5dc9-404d-f2d0-25e15f0a7d16"
      },
      "execution_count": null,
      "outputs": [
        {
          "output_type": "execute_result",
          "data": {
            "text/plain": [
              "1500"
            ]
          },
          "metadata": {},
          "execution_count": 25
        }
      ]
    },
    {
      "cell_type": "code",
      "source": [
        "my_name = \"Fai\"\n",
        "my_age = 26\n",
        "\n",
        "text = f\"Hi! myname is {my_name} and I'm {my_age}\""
      ],
      "metadata": {
        "id": "7uqT75Sps8x0"
      },
      "execution_count": null,
      "outputs": []
    },
    {
      "cell_type": "code",
      "source": [
        "print(text)"
      ],
      "metadata": {
        "colab": {
          "base_uri": "https://localhost:8080/"
        },
        "id": "j_DvP_wZtdbF",
        "outputId": "6a74fb50-645e-4b96-e502-a17a2e45dca6"
      },
      "execution_count": null,
      "outputs": [
        {
          "output_type": "stream",
          "name": "stdout",
          "text": [
            "Hi! myname is Fai and I'm 26\n"
          ]
        }
      ]
    },
    {
      "cell_type": "code",
      "source": [
        "## function\n",
        "## def ?\n",
        "def double(x) :\n",
        "  return x*2"
      ],
      "metadata": {
        "id": "YMjrmcCUtkLx"
      },
      "execution_count": null,
      "outputs": []
    },
    {
      "cell_type": "code",
      "source": [
        "double(6)"
      ],
      "metadata": {
        "colab": {
          "base_uri": "https://localhost:8080/"
        },
        "id": "DeHUU_ikulDK",
        "outputId": "a5514797-de8d-42b6-849f-60e38973663d"
      },
      "execution_count": null,
      "outputs": [
        {
          "output_type": "execute_result",
          "data": {
            "text/plain": [
              "12"
            ]
          },
          "metadata": {},
          "execution_count": 30
        }
      ]
    },
    {
      "cell_type": "code",
      "source": [
        "def greeting(name, food = \"sushi\") :\n",
        "  text = f\"{name} like to eat {food}\"\n",
        "  return text"
      ],
      "metadata": {
        "id": "zjt-NAr9un5g"
      },
      "execution_count": null,
      "outputs": []
    },
    {
      "cell_type": "code",
      "source": [
        "greeting(\"faii\")"
      ],
      "metadata": {
        "colab": {
          "base_uri": "https://localhost:8080/",
          "height": 35
        },
        "id": "4lMdkU5cv4lq",
        "outputId": "34516a3c-a34a-4a6c-ca96-ce0eb6bb9d31"
      },
      "execution_count": null,
      "outputs": [
        {
          "output_type": "execute_result",
          "data": {
            "text/plain": [
              "'faii like to eat sushi'"
            ],
            "application/vnd.google.colaboratory.intrinsic+json": {
              "type": "string"
            }
          },
          "metadata": {},
          "execution_count": 34
        }
      ]
    },
    {
      "cell_type": "code",
      "source": [
        "greeting(\"faii\", \"cake\")"
      ],
      "metadata": {
        "colab": {
          "base_uri": "https://localhost:8080/",
          "height": 35
        },
        "id": "QnfZ1QpTv7KV",
        "outputId": "7350a68e-24bf-4711-bca2-dc90222c3531"
      },
      "execution_count": null,
      "outputs": [
        {
          "output_type": "execute_result",
          "data": {
            "text/plain": [
              "'faii like to eat cake'"
            ],
            "application/vnd.google.colaboratory.intrinsic+json": {
              "type": "string"
            }
          },
          "metadata": {},
          "execution_count": 35
        }
      ]
    },
    {
      "cell_type": "code",
      "source": [
        "def greeting2(x) :\n",
        "  return (x**2, x+2, x+6)"
      ],
      "metadata": {
        "id": "l35FeCpmwPEv"
      },
      "execution_count": null,
      "outputs": []
    },
    {
      "cell_type": "code",
      "source": [
        "x, y, _ = greeting2(5)\n",
        "print(x, y)"
      ],
      "metadata": {
        "colab": {
          "base_uri": "https://localhost:8080/"
        },
        "id": "BHreZmGh3ffy",
        "outputId": "6ae6402e-0331-4fe4-a5d7-b48f2acbc3bd"
      },
      "execution_count": null,
      "outputs": [
        {
          "output_type": "stream",
          "name": "stdout",
          "text": [
            "25 7\n"
          ]
        }
      ]
    },
    {
      "cell_type": "code",
      "source": [
        "def f1() :\n",
        "  print(\"Hi!\")\n",
        "\n",
        "def f2() :\n",
        "  print(\"Hello!\")\n",
        "\n",
        "def f3() :\n",
        "  print(\"Bye!\")\n",
        "\n",
        "def f4() :\n",
        "     f1() # load data\n",
        "     f2() # clean data\n",
        "     f3() # prep data\n",
        "     print(\"done!!\")"
      ],
      "metadata": {
        "id": "UY4trSX_3kbA"
      },
      "execution_count": null,
      "outputs": []
    },
    {
      "cell_type": "code",
      "source": [
        "f4()"
      ],
      "metadata": {
        "colab": {
          "base_uri": "https://localhost:8080/"
        },
        "id": "cuDpDY4-93Wq",
        "outputId": "e924de6a-eb28-4a3a-bf1f-953c77cea53a"
      },
      "execution_count": null,
      "outputs": [
        {
          "output_type": "stream",
          "name": "stdout",
          "text": [
            "Hi!\n",
            "Hello!\n",
            "Bye!\n",
            "done!!\n"
          ]
        }
      ]
    },
    {
      "cell_type": "code",
      "source": [
        "def grade(score) :\n",
        "  if score >= 90 :\n",
        "    return \"Passed\"\n",
        "  else :\n",
        "    return \"Please retake exam\""
      ],
      "metadata": {
        "id": "V48iwLnf9491"
      },
      "execution_count": null,
      "outputs": []
    },
    {
      "cell_type": "code",
      "source": [
        "grade(70)"
      ],
      "metadata": {
        "colab": {
          "base_uri": "https://localhost:8080/",
          "height": 35
        },
        "id": "nqRZ17Qx_QTb",
        "outputId": "66b470fb-3563-42ae-e8b9-ff73795fdf76"
      },
      "execution_count": null,
      "outputs": [
        {
          "output_type": "execute_result",
          "data": {
            "text/plain": [
              "'Please retake exam'"
            ],
            "application/vnd.google.colaboratory.intrinsic+json": {
              "type": "string"
            }
          },
          "metadata": {},
          "execution_count": 47
        }
      ]
    },
    {
      "cell_type": "code",
      "source": [
        "def grade_adv(score) :\n",
        "  if score >= 90 :\n",
        "    return \"A\"\n",
        "  elif score >= 80 :\n",
        "    return \"B\"\n",
        "  elif score >= 70 :\n",
        "    return \"C\"\n",
        "  elif score >= 60 :\n",
        "    return \"D\"\n",
        "  else :\n",
        "    return \"F\""
      ],
      "metadata": {
        "id": "b0zSXIkf_SEM"
      },
      "execution_count": null,
      "outputs": []
    },
    {
      "cell_type": "code",
      "source": [
        "grade_adv(77)"
      ],
      "metadata": {
        "colab": {
          "base_uri": "https://localhost:8080/",
          "height": 35
        },
        "id": "TSzaL153BUXf",
        "outputId": "e5dc998e-5828-479f-9ccf-1099b477085d"
      },
      "execution_count": null,
      "outputs": [
        {
          "output_type": "execute_result",
          "data": {
            "text/plain": [
              "'C'"
            ],
            "application/vnd.google.colaboratory.intrinsic+json": {
              "type": "string"
            }
          },
          "metadata": {},
          "execution_count": 49
        }
      ]
    },
    {
      "cell_type": "code",
      "source": [
        "def testing() :\n",
        "  if (1+1 == 2 and 2*2 == 5) :\n",
        "    print(\"correct\")\n",
        "  else :\n",
        "    print(\"wrong\")"
      ],
      "metadata": {
        "id": "T8kSfJWgBYQT"
      },
      "execution_count": null,
      "outputs": []
    },
    {
      "cell_type": "code",
      "source": [
        "testing()"
      ],
      "metadata": {
        "colab": {
          "base_uri": "https://localhost:8080/"
        },
        "id": "zNblsjh5CBEX",
        "outputId": "4b26b17c-b430-4f4d-8af9-b012b91cd139"
      },
      "execution_count": null,
      "outputs": [
        {
          "output_type": "stream",
          "name": "stdout",
          "text": [
            "wrong\n"
          ]
        }
      ]
    },
    {
      "cell_type": "code",
      "source": [
        "my_shopping = [\"egg\", \"milk\", \"bread\"]\n",
        "\n",
        "## index starts at zero\n",
        "print(my_shopping[0])\n",
        "print(my_shopping[1])\n",
        "print(my_shopping[2])\n",
        "\n",
        "## check number of items\n",
        "print(len(my_shopping))"
      ],
      "metadata": {
        "colab": {
          "base_uri": "https://localhost:8080/"
        },
        "id": "j7_s131_CCtX",
        "outputId": "96198967-e430-4c5e-8561-11d2e6f14f83"
      },
      "execution_count": null,
      "outputs": [
        {
          "output_type": "stream",
          "name": "stdout",
          "text": [
            "egg\n",
            "milk\n",
            "bread\n",
            "3\n"
          ]
        }
      ]
    },
    {
      "cell_type": "code",
      "source": [
        "my_shopping[0] = 'orange'\n",
        "my_shopping[1] = 'milk 2 gallons'"
      ],
      "metadata": {
        "id": "753bAo6YDNO6"
      },
      "execution_count": null,
      "outputs": []
    },
    {
      "cell_type": "code",
      "source": [
        "my_shopping"
      ],
      "metadata": {
        "colab": {
          "base_uri": "https://localhost:8080/"
        },
        "id": "PqLxkTTuD4j2",
        "outputId": "821b9015-9ca7-420e-f6b3-0f6392ab39a0"
      },
      "execution_count": null,
      "outputs": [
        {
          "output_type": "execute_result",
          "data": {
            "text/plain": [
              "['orange', 'milk 2 gallons', 'bread']"
            ]
          },
          "metadata": {},
          "execution_count": 55
        }
      ]
    },
    {
      "cell_type": "code",
      "source": [
        "my_shopping.append(\"honey\")\n",
        "my_shopping"
      ],
      "metadata": {
        "colab": {
          "base_uri": "https://localhost:8080/"
        },
        "id": "oZlxyCcAD7LH",
        "outputId": "7311dbd9-45c7-4f18-9930-3f261143a1fe"
      },
      "execution_count": null,
      "outputs": [
        {
          "output_type": "execute_result",
          "data": {
            "text/plain": [
              "['orange', 'milk 2 gallons', 'bread', 'honey']"
            ]
          },
          "metadata": {},
          "execution_count": 56
        }
      ]
    },
    {
      "cell_type": "code",
      "source": [
        "my_shopping.pop()\n",
        "my_shopping"
      ],
      "metadata": {
        "colab": {
          "base_uri": "https://localhost:8080/"
        },
        "id": "j4MsFrrgEfoO",
        "outputId": "132bdb14-f205-4287-e7c8-b038e167f154"
      },
      "execution_count": null,
      "outputs": [
        {
          "output_type": "execute_result",
          "data": {
            "text/plain": [
              "['orange', 'milk 2 gallons', 'bread']"
            ]
          },
          "metadata": {},
          "execution_count": 57
        }
      ]
    },
    {
      "cell_type": "code",
      "source": [
        "my_shopping.remove(\"bread\")\n",
        "my_shopping"
      ],
      "metadata": {
        "colab": {
          "base_uri": "https://localhost:8080/"
        },
        "id": "PgIRvncmIt9f",
        "outputId": "21ba29f2-adeb-41d8-9793-2a1c723724d7"
      },
      "execution_count": null,
      "outputs": [
        {
          "output_type": "execute_result",
          "data": {
            "text/plain": [
              "['orange', 'milk 2 gallons']"
            ]
          },
          "metadata": {},
          "execution_count": 58
        }
      ]
    },
    {
      "cell_type": "code",
      "source": [
        "my_shopping.insert(0, \"bread\")\n",
        "my_shopping"
      ],
      "metadata": {
        "colab": {
          "base_uri": "https://localhost:8080/"
        },
        "id": "_tSe3WW9JqHx",
        "outputId": "cd18ba05-081f-43f4-c648-cfac03617d92"
      },
      "execution_count": null,
      "outputs": [
        {
          "output_type": "execute_result",
          "data": {
            "text/plain": [
              "['bread', 'orange', 'milk 2 gallons']"
            ]
          },
          "metadata": {},
          "execution_count": 59
        }
      ]
    },
    {
      "cell_type": "code",
      "source": [
        "my_shopping.sort(reverse = True)\n",
        "my_shopping"
      ],
      "metadata": {
        "colab": {
          "base_uri": "https://localhost:8080/"
        },
        "id": "Hf5TICKiLbje",
        "outputId": "a3f86533-9870-4396-f5b2-f5d678988d88"
      },
      "execution_count": null,
      "outputs": [
        {
          "output_type": "execute_result",
          "data": {
            "text/plain": [
              "['orange', 'milk 2 gallons', 'bread']"
            ]
          },
          "metadata": {},
          "execution_count": 62
        }
      ]
    },
    {
      "cell_type": "code",
      "source": [
        "full_list = ['egg', 'milk'] + ['Thai', 'Japan']\n",
        "print(full_list)"
      ],
      "metadata": {
        "colab": {
          "base_uri": "https://localhost:8080/"
        },
        "id": "sd9LHTYOL8im",
        "outputId": "3d96daa4-f33f-40fa-8d6c-93f409ee76f5"
      },
      "execution_count": null,
      "outputs": [
        {
          "output_type": "stream",
          "name": "stdout",
          "text": [
            "['egg', 'milk', 'Thai', 'Japan']\n"
          ]
        }
      ]
    },
    {
      "cell_type": "code",
      "source": [
        "for item in full_list :\n",
        "  print(item)"
      ],
      "metadata": {
        "colab": {
          "base_uri": "https://localhost:8080/"
        },
        "id": "ySWL24JXNTFA",
        "outputId": "1976b536-e403-4178-eeb2-a3198e8f8934"
      },
      "execution_count": null,
      "outputs": [
        {
          "output_type": "stream",
          "name": "stdout",
          "text": [
            "egg\n",
            "milk\n",
            "Thai\n",
            "Japan\n"
          ]
        }
      ]
    },
    {
      "cell_type": "code",
      "source": [
        "fruits = ['banana', 'apple', 'orange']\n",
        "\n",
        "for fruit in fruits :\n",
        "  if fruit == \"banana\" :\n",
        "    print(\"delicious\")\n",
        "  else :\n",
        "    print(\"not delicious\")"
      ],
      "metadata": {
        "colab": {
          "base_uri": "https://localhost:8080/"
        },
        "id": "0VikJ759N6vn",
        "outputId": "98eb4592-c355-4075-deae-8eda4b41bce7"
      },
      "execution_count": null,
      "outputs": [
        {
          "output_type": "stream",
          "name": "stdout",
          "text": [
            "delicious\n",
            "not delicious\n",
            "not delicious\n"
          ]
        }
      ]
    },
    {
      "cell_type": "code",
      "source": [
        "fruits = ['banana', 'apple', 'orange']\n",
        "\n",
        "for fruit in fruits :\n",
        "  print(fruit.upper())"
      ],
      "metadata": {
        "colab": {
          "base_uri": "https://localhost:8080/"
        },
        "id": "1t0WxRSKOWQb",
        "outputId": "1cca732e-de5f-49cc-ddb2-1698bcadc88e"
      },
      "execution_count": null,
      "outputs": [
        {
          "output_type": "stream",
          "name": "stdout",
          "text": [
            "BANANA\n",
            "APPLE\n",
            "ORANGE\n"
          ]
        }
      ]
    },
    {
      "cell_type": "code",
      "source": [
        "fruits = ['banana', 'apple', 'orange']\n",
        "\n",
        "for fruit in fruits :\n",
        "  print(fruit.title())"
      ],
      "metadata": {
        "colab": {
          "base_uri": "https://localhost:8080/"
        },
        "id": "c5qrBVvEPy3b",
        "outputId": "583f0b98-fadf-4b87-9b82-1cef305f3aa8"
      },
      "execution_count": null,
      "outputs": [
        {
          "output_type": "stream",
          "name": "stdout",
          "text": [
            "Banana\n",
            "Apple\n",
            "Orange\n"
          ]
        }
      ]
    },
    {
      "cell_type": "code",
      "source": [
        "text = \"a duck walks into a bar\"\n",
        "text = text.replace(\"duck\", \"lion\")\n",
        "text"
      ],
      "metadata": {
        "colab": {
          "base_uri": "https://localhost:8080/",
          "height": 35
        },
        "id": "cxot6Nx9QJ29",
        "outputId": "efa6a791-e5d6-4880-a025-1e014d45ceca"
      },
      "execution_count": null,
      "outputs": [
        {
          "output_type": "execute_result",
          "data": {
            "text/plain": [
              "'a lion walks into a bar'"
            ],
            "application/vnd.google.colaboratory.intrinsic+json": {
              "type": "string"
            }
          },
          "metadata": {},
          "execution_count": 69
        }
      ]
    },
    {
      "cell_type": "code",
      "source": [
        "friends = ['Toy', 'Faii', 'Tang', 'Mook']\n",
        "friends[0] = 'Song'\n",
        "friends"
      ],
      "metadata": {
        "colab": {
          "base_uri": "https://localhost:8080/"
        },
        "id": "6G2OHykFRNAn",
        "outputId": "befdec6d-0133-4105-8857-c0cd53b65ac9"
      },
      "execution_count": null,
      "outputs": [
        {
          "output_type": "execute_result",
          "data": {
            "text/plain": [
              "['Song', 'Faii', 'Tang', 'Mook']"
            ]
          },
          "metadata": {},
          "execution_count": 70
        }
      ]
    },
    {
      "cell_type": "code",
      "source": [
        "my_name = \"Tunchika\"\n",
        "my_name = \"P\" + my_name[1: ]\n",
        "my_name"
      ],
      "metadata": {
        "colab": {
          "base_uri": "https://localhost:8080/",
          "height": 35
        },
        "id": "4zTMgX4xSuNr",
        "outputId": "daf013cd-dc6e-4360-b99e-0b37f30ee18a"
      },
      "execution_count": null,
      "outputs": [
        {
          "output_type": "execute_result",
          "data": {
            "text/plain": [
              "'Punchika'"
            ],
            "application/vnd.google.colaboratory.intrinsic+json": {
              "type": "string"
            }
          },
          "metadata": {},
          "execution_count": 73
        }
      ]
    },
    {
      "cell_type": "code",
      "source": [
        "for i in range(5) :\n",
        "  print(i)"
      ],
      "metadata": {
        "colab": {
          "base_uri": "https://localhost:8080/"
        },
        "id": "kaVq9hB2TTe1",
        "outputId": "abecf90f-80e2-45cd-ad9a-41746bbbac7c"
      },
      "execution_count": null,
      "outputs": [
        {
          "output_type": "stream",
          "name": "stdout",
          "text": [
            "0\n",
            "1\n",
            "2\n",
            "3\n",
            "4\n"
          ]
        }
      ]
    },
    {
      "cell_type": "code",
      "source": [
        "count = 0\n",
        "\n",
        "while(count < 5) :\n",
        "  print(\"hi!\")\n",
        "  count += 1"
      ],
      "metadata": {
        "colab": {
          "base_uri": "https://localhost:8080/"
        },
        "id": "I5g1QhklWrSG",
        "outputId": "1e46bbc3-418f-459f-9479-b2fbce6c7acb"
      },
      "execution_count": null,
      "outputs": [
        {
          "output_type": "stream",
          "name": "stdout",
          "text": [
            "hi!\n",
            "hi!\n",
            "hi!\n",
            "hi!\n",
            "hi!\n"
          ]
        }
      ]
    },
    {
      "cell_type": "code",
      "source": [
        "while True :\n",
        "  user_input = input(\"what do you want to eat ? \")\n",
        "  print(user_input)\n",
        "  if user_input == \"I'm full\" :\n",
        "    print(\"bye!\")\n",
        "    break"
      ],
      "metadata": {
        "colab": {
          "base_uri": "https://localhost:8080/"
        },
        "id": "-sxdGKW4Xoeg",
        "outputId": "860d34c9-f7d7-4a87-dbd3-93a74dcef9f9"
      },
      "execution_count": null,
      "outputs": [
        {
          "output_type": "stream",
          "name": "stdout",
          "text": [
            "what do you want to eat ? banana\n",
            "banana\n",
            "what do you want to eat ? I'm full\n",
            "I'm full\n",
            "bye!\n"
          ]
        }
      ]
    },
    {
      "cell_type": "code",
      "source": [
        "alive = True\n",
        "while alive :\n",
        "  print(\"Live Learn Repeat!\")\n",
        "  ui = input(\"Do you want to stop ? \")\n",
        "  if ui == \"yes\" :\n",
        "    alive = False"
      ],
      "metadata": {
        "colab": {
          "base_uri": "https://localhost:8080/"
        },
        "id": "lQ6A7Ea5YgQl",
        "outputId": "0c37db7e-651a-4372-a1a0-482e80e944c6"
      },
      "execution_count": null,
      "outputs": [
        {
          "name": "stdout",
          "output_type": "stream",
          "text": [
            "Live Learn Repeat!\n",
            "Do you want to stop ? no\n",
            "Live Learn Repeat!\n",
            "Do you want to stop ? yes\n"
          ]
        }
      ]
    },
    {
      "cell_type": "code",
      "source": [
        "laptops = ['lenovo', 'dell', 'apple']\n",
        "\n",
        "result = [] #empty list\n",
        "\n",
        "for laptop in laptops :\n",
        "  change = laptop.upper()\n",
        "  result.append(change)\n",
        "\n",
        "result"
      ],
      "metadata": {
        "colab": {
          "base_uri": "https://localhost:8080/"
        },
        "id": "8RWLRbDlZ7Je",
        "outputId": "9dc5a4f0-5d30-46a5-e91a-2190963059b9"
      },
      "execution_count": null,
      "outputs": [
        {
          "output_type": "execute_result",
          "data": {
            "text/plain": [
              "['LENOVO', 'DELL', 'APPLE']"
            ]
          },
          "metadata": {},
          "execution_count": 82
        }
      ]
    },
    {
      "cell_type": "code",
      "source": [
        "laptops = ['lenovo', 'dell', 'apple']\n",
        "\n",
        "laptops_upper = [laptop.upper() for laptop in laptops]\n",
        "laptops_upper"
      ],
      "metadata": {
        "colab": {
          "base_uri": "https://localhost:8080/"
        },
        "id": "LhPE-YVUbFcD",
        "outputId": "ed54984a-a783-4e6b-bb96-9e04871461c7"
      },
      "execution_count": null,
      "outputs": [
        {
          "output_type": "execute_result",
          "data": {
            "text/plain": [
              "['LENOVO', 'DELL', 'APPLE']"
            ]
          },
          "metadata": {},
          "execution_count": 83
        }
      ]
    },
    {
      "cell_type": "code",
      "source": [
        "x = (1,2,3)\n",
        "print(x, type(x))"
      ],
      "metadata": {
        "colab": {
          "base_uri": "https://localhost:8080/"
        },
        "id": "Y_D3QHicbp8n",
        "outputId": "ac5fb0ea-7d1b-4691-f1bb-91aed071760e"
      },
      "execution_count": null,
      "outputs": [
        {
          "output_type": "stream",
          "name": "stdout",
          "text": [
            "(1, 2, 3) <class 'tuple'>\n"
          ]
        }
      ]
    },
    {
      "cell_type": "code",
      "source": [
        "fruits = {\"orange\", \"lemon\", \"lemon\", \"lemon\", \"apple\", \"apple\"}\n",
        "fruits"
      ],
      "metadata": {
        "colab": {
          "base_uri": "https://localhost:8080/"
        },
        "id": "dfIbL92Zcg7M",
        "outputId": "2771bf74-a6af-4e2c-bf42-009134fe5cbc"
      },
      "execution_count": null,
      "outputs": [
        {
          "output_type": "execute_result",
          "data": {
            "text/plain": [
              "{'apple', 'lemon', 'orange'}"
            ]
          },
          "metadata": {},
          "execution_count": 86
        }
      ]
    },
    {
      "cell_type": "code",
      "source": [
        "a = {\"apple\", \"banana\", \"cherry\"}\n",
        "b = {\"google\", \"microsoft\", \"apple\"}\n",
        "\n",
        "a & b"
      ],
      "metadata": {
        "colab": {
          "base_uri": "https://localhost:8080/"
        },
        "id": "Y7od517Ve2Io",
        "outputId": "ff24e103-d88a-4482-b256-d7142ed813ea"
      },
      "execution_count": null,
      "outputs": [
        {
          "output_type": "execute_result",
          "data": {
            "text/plain": [
              "{'apple'}"
            ]
          },
          "metadata": {},
          "execution_count": 87
        }
      ]
    },
    {
      "cell_type": "code",
      "source": [
        "a | b"
      ],
      "metadata": {
        "colab": {
          "base_uri": "https://localhost:8080/"
        },
        "id": "eI35zrsSfcbW",
        "outputId": "9eb2c99c-6e9d-49df-ad2f-c8ee5fb230cd"
      },
      "execution_count": null,
      "outputs": [
        {
          "output_type": "execute_result",
          "data": {
            "text/plain": [
              "{'apple', 'banana', 'cherry', 'google', 'microsoft'}"
            ]
          },
          "metadata": {},
          "execution_count": 88
        }
      ]
    },
    {
      "cell_type": "code",
      "source": [
        "a-b"
      ],
      "metadata": {
        "colab": {
          "base_uri": "https://localhost:8080/"
        },
        "id": "IwU6uSHigAz_",
        "outputId": "c19c11f3-b72b-4f98-88e9-5f29513a30f0"
      },
      "execution_count": null,
      "outputs": [
        {
          "output_type": "execute_result",
          "data": {
            "text/plain": [
              "{'banana', 'cherry'}"
            ]
          },
          "metadata": {},
          "execution_count": 89
        }
      ]
    },
    {
      "cell_type": "code",
      "source": [
        "user = {\n",
        "    \"name\" : \"Faii\",\n",
        "    \"age\" : 26,\n",
        "    \"location\" : \"Thailand\",\n",
        "    \"steaming\" : {\"nf\" : True ,\n",
        "                        \"amaz\" : False},\n",
        "    \"fav_movies\" : [\"Spider man\", \"Barbie\"]\n",
        "}\n",
        "user"
      ],
      "metadata": {
        "colab": {
          "base_uri": "https://localhost:8080/"
        },
        "id": "nvgHf_dughXN",
        "outputId": "d07026c8-f6fc-45d2-94c8-f50b92b432c8"
      },
      "execution_count": null,
      "outputs": [
        {
          "output_type": "execute_result",
          "data": {
            "text/plain": [
              "{'name': 'Faii',\n",
              " 'age': 26,\n",
              " 'location': 'Thailand',\n",
              " 'steaming': {'nf': True, 'amaz': False},\n",
              " 'fav_movies': ['Spider man', 'Barbie']}"
            ]
          },
          "metadata": {},
          "execution_count": 6
        }
      ]
    },
    {
      "cell_type": "code",
      "source": [
        "user[\"age\"] = 50\n",
        "user[\"name\"] = \"John Wick\"\n",
        "user"
      ],
      "metadata": {
        "id": "HJhByvtQh8EF",
        "colab": {
          "base_uri": "https://localhost:8080/"
        },
        "outputId": "76fe64e6-f48f-49ce-c1b2-70490096ebef"
      },
      "execution_count": null,
      "outputs": [
        {
          "output_type": "execute_result",
          "data": {
            "text/plain": [
              "{'name': 'John Wick',\n",
              " 'age': 50,\n",
              " 'location': 'Thailand',\n",
              " 'steaming': {'nf': True, 'amaz': False},\n",
              " 'fav_movies': ['Spider man', 'Barbie']}"
            ]
          },
          "metadata": {},
          "execution_count": 8
        }
      ]
    },
    {
      "cell_type": "code",
      "source": [
        "user[\"dog_name\"] = \"Juju\"\n",
        "user"
      ],
      "metadata": {
        "colab": {
          "base_uri": "https://localhost:8080/"
        },
        "id": "dTCOOYT7H3IR",
        "outputId": "612ad471-051f-4b16-c792-e476931a4719"
      },
      "execution_count": null,
      "outputs": [
        {
          "output_type": "execute_result",
          "data": {
            "text/plain": [
              "{'name': 'John Wick',\n",
              " 'age': 50,\n",
              " 'location': 'Thailand',\n",
              " 'steaming': {'nf': True, 'amaz': False},\n",
              " 'fav_movies': ['Spider man', 'Barbie'],\n",
              " 'dog_name': 'Juju'}"
            ]
          },
          "metadata": {},
          "execution_count": 16
        }
      ]
    },
    {
      "cell_type": "code",
      "source": [
        "del user[\"dog_name\"]\n",
        "user"
      ],
      "metadata": {
        "colab": {
          "base_uri": "https://localhost:8080/"
        },
        "id": "ytX7E0MBIj0T",
        "outputId": "72c83cc7-5925-4140-817f-a07ab8e8367e"
      },
      "execution_count": null,
      "outputs": [
        {
          "output_type": "execute_result",
          "data": {
            "text/plain": [
              "{'name': 'John Wick',\n",
              " 'age': 50,\n",
              " 'location': 'Thailand',\n",
              " 'steaming': {'nf': True, 'amaz': False},\n",
              " 'fav_movies': ['Spider man', 'Barbie']}"
            ]
          },
          "metadata": {},
          "execution_count": 18
        }
      ]
    },
    {
      "cell_type": "code",
      "source": [
        "user[\"fav_movies\"] = \"Avengers\",\"Barbie\",\"Conan\"\n",
        "user"
      ],
      "metadata": {
        "colab": {
          "base_uri": "https://localhost:8080/"
        },
        "id": "_4u2Ny2RI9tx",
        "outputId": "86239445-af05-49e1-85e9-dfd84fe11e73"
      },
      "execution_count": null,
      "outputs": [
        {
          "output_type": "execute_result",
          "data": {
            "text/plain": [
              "{'name': 'John Wick',\n",
              " 'age': 50,\n",
              " 'location': 'Thailand',\n",
              " 'steaming': {'nf': True, 'amaz': False},\n",
              " 'fav_movies': ('Avengers', 'Barbie', 'Conan')}"
            ]
          },
          "metadata": {},
          "execution_count": 23
        }
      ]
    },
    {
      "cell_type": "code",
      "source": [
        "user[\"fav_movies\"][0:2]"
      ],
      "metadata": {
        "colab": {
          "base_uri": "https://localhost:8080/"
        },
        "id": "d6PW6a9VK86S",
        "outputId": "4caed63d-bba4-4b77-fa43-3e51976ff729"
      },
      "execution_count": null,
      "outputs": [
        {
          "output_type": "execute_result",
          "data": {
            "text/plain": [
              "('Avengers', 'Barbie')"
            ]
          },
          "metadata": {},
          "execution_count": 24
        }
      ]
    },
    {
      "cell_type": "code",
      "source": [
        "from math import pi\n",
        "pi"
      ],
      "metadata": {
        "colab": {
          "base_uri": "https://localhost:8080/"
        },
        "id": "dLAyoFtlLkEG",
        "outputId": "cac81cf0-92fe-4a6e-9e28-a427f63f3886"
      },
      "execution_count": null,
      "outputs": [
        {
          "output_type": "execute_result",
          "data": {
            "text/plain": [
              "3.141592653589793"
            ]
          },
          "metadata": {},
          "execution_count": 31
        }
      ]
    },
    {
      "cell_type": "code",
      "source": [
        "from math import pi, log, exp\n",
        "exp(5)"
      ],
      "metadata": {
        "colab": {
          "base_uri": "https://localhost:8080/"
        },
        "id": "mAf47YR-M20S",
        "outputId": "0001e2c4-cbab-4fff-c5c5-45154c2f5df8"
      },
      "execution_count": null,
      "outputs": [
        {
          "output_type": "execute_result",
          "data": {
            "text/plain": [
              "148.4131591025766"
            ]
          },
          "metadata": {},
          "execution_count": 33
        }
      ]
    },
    {
      "cell_type": "code",
      "source": [
        "from random import choice"
      ],
      "metadata": {
        "id": "B4PJAGuoNiwI"
      },
      "execution_count": null,
      "outputs": []
    },
    {
      "cell_type": "code",
      "source": [
        "choice([\"ค้อน\", \"กรรไกร\", \"กระดาษ\"])"
      ],
      "metadata": {
        "colab": {
          "base_uri": "https://localhost:8080/",
          "height": 35
        },
        "id": "D_ORD887OWwK",
        "outputId": "45d88a21-c27d-4ba6-bd01-0f4edd4473f2"
      },
      "execution_count": null,
      "outputs": [
        {
          "output_type": "execute_result",
          "data": {
            "text/plain": [
              "'กระดาษ'"
            ],
            "application/vnd.google.colaboratory.intrinsic+json": {
              "type": "string"
            }
          },
          "metadata": {},
          "execution_count": 36
        }
      ]
    },
    {
      "cell_type": "markdown",
      "source": [
        "#Essential Python for DA\n",
        "- OOP\n",
        "- Pandas / Numpy\n",
        "- Request"
      ],
      "metadata": {
        "id": "yeeiqRwHTq0d"
      }
    },
    {
      "cell_type": "code",
      "source": [
        "# OOP\n",
        "# Object Oriented Programming"
      ],
      "metadata": {
        "id": "_6UWgE_6Ofeb"
      },
      "execution_count": null,
      "outputs": []
    },
    {
      "cell_type": "code",
      "source": [
        "class Human:\n",
        "  ## initializtion (create)\n",
        "  def __init__(self, name, age, country) :\n",
        "    self.name = name\n",
        "    self.age = age\n",
        "    self.country = country\n",
        "\n",
        "  ## string method\n",
        "  def __str__(self) :\n",
        "    return \"I am Human!\"\n",
        "\n",
        "  ## your own method\n",
        "  def greeting(self) :\n",
        "    print(f\"Hi! my name is {self.name}\")\n",
        "\n",
        "  ## age + 1\n",
        "  def get_older(self, years) :\n",
        "    self.age += years\n",
        "    print(f\"Age increase by {years}\")"
      ],
      "metadata": {
        "id": "upeEVwd3Um-j"
      },
      "execution_count": null,
      "outputs": []
    },
    {
      "cell_type": "code",
      "source": [
        "human1 = Human(\"Fai\", 26, \"Thailand\")\n",
        "human2 = Human(\"Lisa\", 27, \"Japan\")\n",
        "human3 = Human(\"Toy\", 37, \"India\")"
      ],
      "metadata": {
        "id": "ao77kmOwU0rW"
      },
      "execution_count": null,
      "outputs": []
    },
    {
      "cell_type": "code",
      "source": [
        "print(human1.name, human1.age, human1.country)"
      ],
      "metadata": {
        "colab": {
          "base_uri": "https://localhost:8080/"
        },
        "id": "_XesKvF0eVa8",
        "outputId": "27cd7a2e-f2f8-4d68-9f98-784bce42cbd6"
      },
      "execution_count": null,
      "outputs": [
        {
          "output_type": "stream",
          "name": "stdout",
          "text": [
            "Fai 26 Thailand\n"
          ]
        }
      ]
    },
    {
      "cell_type": "code",
      "source": [
        "print(human1)"
      ],
      "metadata": {
        "colab": {
          "base_uri": "https://localhost:8080/"
        },
        "id": "z985hhxJfjlI",
        "outputId": "baff075b-655d-462f-a920-363d81d34834"
      },
      "execution_count": null,
      "outputs": [
        {
          "output_type": "stream",
          "name": "stdout",
          "text": [
            "I am Human!\n"
          ]
        }
      ]
    },
    {
      "cell_type": "code",
      "source": [
        "human3.greeting()\n"
      ],
      "metadata": {
        "colab": {
          "base_uri": "https://localhost:8080/"
        },
        "id": "Gqq9s5yHhxCL",
        "outputId": "7e62b44a-b717-48a9-fe91-180c37912c69"
      },
      "execution_count": null,
      "outputs": [
        {
          "output_type": "stream",
          "name": "stdout",
          "text": [
            "Hi! my name is Toy\n"
          ]
        }
      ]
    },
    {
      "cell_type": "code",
      "source": [
        "human2.get_older(5)"
      ],
      "metadata": {
        "colab": {
          "base_uri": "https://localhost:8080/"
        },
        "id": "yvEeZKNhj_QH",
        "outputId": "d595fb27-d5de-4119-d7f9-05d3cf5a0c0c"
      },
      "execution_count": null,
      "outputs": [
        {
          "output_type": "stream",
          "name": "stdout",
          "text": [
            "Age increase by 5\n"
          ]
        }
      ]
    },
    {
      "cell_type": "code",
      "source": [
        "human2.age"
      ],
      "metadata": {
        "colab": {
          "base_uri": "https://localhost:8080/"
        },
        "id": "dHKnLlSakcpa",
        "outputId": "60828b97-847f-4586-a108-34ad92e7b780"
      },
      "execution_count": null,
      "outputs": [
        {
          "output_type": "execute_result",
          "data": {
            "text/plain": [
              "32"
            ]
          },
          "metadata": {},
          "execution_count": 47
        }
      ]
    },
    {
      "cell_type": "code",
      "source": [
        "class ATM :\n",
        "  def __init__(self, name, balance, bank) :\n",
        "    self.name = name\n",
        "    self.balance = balance\n",
        "    self.bank = bank\n",
        "\n",
        "  def deposit(self, amt) :\n",
        "    self.balance += amt\n",
        "    print(f\"Deposit {amt} successfully\")\n",
        "\n",
        "  def check_balance(self) :\n",
        "    print(f\"Your current balance is {self.balance}\")\n",
        "\n",
        "  def withdraw(self, amt) :\n",
        "    if self.balance >= amt :\n",
        "      self.balance -= amt\n",
        "      print(f\"Withdraw {amt} successfully\")\n",
        "    else :\n",
        "      print(\"Insufficient balance\")\n",
        "\n",
        "  def transfer(self, amt) :\n",
        "    if self.balance >= amt :\n",
        "      self.balance -= amt\n",
        "      input (\"Please provide account pin : \")\n",
        "      print(f\"Transfer {amt} successfully\")\n",
        "    else :\n",
        "      print(\"Insufficient balance\")\n",
        "\n",
        "  def update_book(self) :\n",
        "    input(\"please provide your pin : \")\n",
        "    print(\"update book successfully\")"
      ],
      "metadata": {
        "id": "tDyJZNvskfBL"
      },
      "execution_count": null,
      "outputs": []
    },
    {
      "cell_type": "code",
      "source": [
        "Faii = ATM(\"Faii\", 1000, \"KBank\")\n",
        "Mook = ATM(\"Mook\", 2000, \"SCB\")"
      ],
      "metadata": {
        "id": "2_B3b-jkpQmh"
      },
      "execution_count": null,
      "outputs": []
    },
    {
      "cell_type": "code",
      "source": [
        "Faii.deposit(500)"
      ],
      "metadata": {
        "colab": {
          "base_uri": "https://localhost:8080/"
        },
        "id": "N8AmpeFhrVW3",
        "outputId": "9bec7f0e-d25c-4518-a57f-5f73317bb56a"
      },
      "execution_count": null,
      "outputs": [
        {
          "output_type": "stream",
          "name": "stdout",
          "text": [
            "Deposit 500 successfully\n"
          ]
        }
      ]
    },
    {
      "cell_type": "code",
      "source": [
        "print(Faii.balance)"
      ],
      "metadata": {
        "colab": {
          "base_uri": "https://localhost:8080/"
        },
        "id": "1ZSeEl9JrZHa",
        "outputId": "c3f0ce20-03b3-45c1-8408-f57f8851216e"
      },
      "execution_count": null,
      "outputs": [
        {
          "output_type": "stream",
          "name": "stdout",
          "text": [
            "1500\n"
          ]
        }
      ]
    },
    {
      "cell_type": "code",
      "source": [
        "Faii.check_balance()"
      ],
      "metadata": {
        "colab": {
          "base_uri": "https://localhost:8080/"
        },
        "id": "WSVcuj6urfc6",
        "outputId": "4265893b-5cba-4d54-beb3-040a689d6222"
      },
      "execution_count": null,
      "outputs": [
        {
          "output_type": "stream",
          "name": "stdout",
          "text": [
            "Your current balance is 1500\n"
          ]
        }
      ]
    },
    {
      "cell_type": "code",
      "source": [
        "Faii.withdraw(500)"
      ],
      "metadata": {
        "colab": {
          "base_uri": "https://localhost:8080/"
        },
        "id": "F8SG_5h4rnmY",
        "outputId": "47e12c40-84fe-449d-b5ef-45bfa8bb5472"
      },
      "execution_count": null,
      "outputs": [
        {
          "output_type": "stream",
          "name": "stdout",
          "text": [
            "Please provide account number : 3587\n",
            "Withdraw 500 successfully\n"
          ]
        }
      ]
    },
    {
      "cell_type": "code",
      "source": [
        "Faii.withdraw(10000)"
      ],
      "metadata": {
        "colab": {
          "base_uri": "https://localhost:8080/"
        },
        "id": "0tP4GPAxrrcr",
        "outputId": "46956f4a-7a96-404d-dcb5-cadd50d3fba7"
      },
      "execution_count": null,
      "outputs": [
        {
          "output_type": "stream",
          "name": "stdout",
          "text": [
            "Insufficient balance\n"
          ]
        }
      ]
    },
    {
      "cell_type": "code",
      "source": [
        "Faii.transfer(500)"
      ],
      "metadata": {
        "colab": {
          "base_uri": "https://localhost:8080/"
        },
        "id": "AFvo2Tn8rvq7",
        "outputId": "07662bfc-6b35-467b-d1b8-8eb8a7dbced8"
      },
      "execution_count": null,
      "outputs": [
        {
          "output_type": "stream",
          "name": "stdout",
          "text": [
            "Please provide account pin : 4564\n",
            "Transfer 500 successfully\n"
          ]
        }
      ]
    },
    {
      "cell_type": "code",
      "source": [
        "Faii.check_balance()"
      ],
      "metadata": {
        "colab": {
          "base_uri": "https://localhost:8080/"
        },
        "id": "y6f5bN9YsHTU",
        "outputId": "fb344c55-4e3f-4b27-d6d5-eb78e25d5999"
      },
      "execution_count": null,
      "outputs": [
        {
          "output_type": "stream",
          "name": "stdout",
          "text": [
            "Your current balance is 500\n"
          ]
        }
      ]
    },
    {
      "cell_type": "code",
      "source": [
        "Faii.update_book()"
      ],
      "metadata": {
        "colab": {
          "base_uri": "https://localhost:8080/"
        },
        "id": "GzAnHE3VsKZ9",
        "outputId": "55c9d036-e8e7-43de-9192-348ea7a54d38"
      },
      "execution_count": null,
      "outputs": [
        {
          "output_type": "stream",
          "name": "stdout",
          "text": [
            "please provide your pin : 45456\n",
            "update book successfully\n"
          ]
        }
      ]
    },
    {
      "cell_type": "markdown",
      "source": [
        "#API 101 in Python"
      ],
      "metadata": {
        "id": "jJGzokx2wAqD"
      }
    },
    {
      "cell_type": "code",
      "source": [
        "## standard module (library)\n",
        "import requests"
      ],
      "metadata": {
        "id": "dWHm8kELsarY"
      },
      "execution_count": null,
      "outputs": []
    },
    {
      "cell_type": "code",
      "source": [
        "url = \"https://www.swapi.tech/api/people/1\"\n",
        "\n",
        "resp = requests.get(url)\n",
        "resp"
      ],
      "metadata": {
        "colab": {
          "base_uri": "https://localhost:8080/"
        },
        "id": "0Zx1NYfWwg1v",
        "outputId": "87b93784-4ae2-44c6-8848-73d99ab14e5e"
      },
      "execution_count": null,
      "outputs": [
        {
          "output_type": "execute_result",
          "data": {
            "text/plain": [
              "<Response [200]>"
            ]
          },
          "metadata": {},
          "execution_count": 78
        }
      ]
    },
    {
      "cell_type": "code",
      "source": [
        "resp.json()"
      ],
      "metadata": {
        "colab": {
          "base_uri": "https://localhost:8080/"
        },
        "id": "k3BRdIiH0tM1",
        "outputId": "9ffd87e1-4961-47e5-fc12-40af37d9f6e7"
      },
      "execution_count": null,
      "outputs": [
        {
          "output_type": "execute_result",
          "data": {
            "text/plain": [
              "{'message': 'ok',\n",
              " 'result': {'properties': {'created': '2025-04-29T17:52:28.143Z',\n",
              "   'edited': '2025-04-29T17:52:28.143Z',\n",
              "   'name': 'Luke Skywalker',\n",
              "   'gender': 'male',\n",
              "   'skin_color': 'fair',\n",
              "   'hair_color': 'blond',\n",
              "   'height': '172',\n",
              "   'eye_color': 'blue',\n",
              "   'mass': '77',\n",
              "   'homeworld': 'https://www.swapi.tech/api/planets/1',\n",
              "   'birth_year': '19BBY',\n",
              "   'url': 'https://www.swapi.tech/api/people/1'},\n",
              "  '_id': '5f63a36eee9fd7000499be42',\n",
              "  'description': 'A person within the Star Wars universe',\n",
              "  'uid': '1',\n",
              "  '__v': 2},\n",
              " 'apiVersion': '1.0',\n",
              " 'timestamp': '2025-04-30T09:03:29.043Z',\n",
              " 'support': {'contact': 'admin@swapi.tech',\n",
              "  'donate': 'https://www.paypal.com/donate/?business=2HGAUVTWGR5T2&no_recurring=0&item_name=Support+Swapi+and+keep+the+galaxy%27s+data+free%21+Your+donation+fuels+open-source+innovation+and+helps+us+grow.+Thank+you%21+%F0%9F%9A%80&currency_code=USD',\n",
              "  'partnerDiscounts': {'saberMasters': {'link': 'https://www.swapi.tech/partner-discount/sabermasters-swapi',\n",
              "    'details': 'Use this link to automatically get $10 off your purchase!'},\n",
              "   'heartMath': {'link': 'https://www.heartmath.com/ryanc',\n",
              "    'details': 'Looking for some Jedi-like inner peace? Take 10% off your heart-brain coherence tools from the HeartMath Institute!'}}},\n",
              " 'social': {'discord': 'https://discord.gg/zWvA6GPeNG',\n",
              "  'reddit': 'https://www.reddit.com/r/SwapiOfficial/',\n",
              "  'github': 'https://github.com/semperry/swapi/blob/main/CONTRIBUTORS.md'}}"
            ]
          },
          "metadata": {},
          "execution_count": 119
        }
      ]
    },
    {
      "cell_type": "code",
      "source": [
        "## loop api\n",
        "import requests\n",
        "import time\n",
        "\n",
        "names = []\n",
        "heights = []\n",
        "masses = []\n",
        "\n",
        "for i in range(5) :\n",
        "  url = f\"https://www.swapi.tech/api/people/{i+1}\"\n",
        "  resp = requests.get(url)\n",
        "  name = resp.json()['result']['properties']['name']\n",
        "  height = resp.json()['result']['properties']['height']\n",
        "  mass = resp.json()['result']['properties']['mass']\n",
        "  names.append(name)\n",
        "  heights.append(height)\n",
        "  masses.append(mass)\n",
        "  print(name)\n",
        "  time.sleep(1)"
      ],
      "metadata": {
        "colab": {
          "base_uri": "https://localhost:8080/"
        },
        "id": "TyZATJZ53ekI",
        "outputId": "e963ceba-5171-401c-94b1-6180b2d46353"
      },
      "execution_count": null,
      "outputs": [
        {
          "output_type": "stream",
          "name": "stdout",
          "text": [
            "Luke Skywalker\n",
            "C-3PO\n",
            "R2-D2\n",
            "Darth Vader\n",
            "Leia Organa\n"
          ]
        }
      ]
    },
    {
      "cell_type": "code",
      "source": [
        "import pandas as pd\n",
        "df = pd.DataFrame({\"name\" : names,\n",
        "                              \"height\" : heights,\n",
        "                              \"mass\" : masses})\n",
        "df"
      ],
      "metadata": {
        "colab": {
          "base_uri": "https://localhost:8080/",
          "height": 206
        },
        "id": "vQhWkA4k-db6",
        "outputId": "0c68118c-37ca-407f-93e4-277e828f82cc"
      },
      "execution_count": null,
      "outputs": [
        {
          "output_type": "execute_result",
          "data": {
            "text/plain": [
              "             name height mass\n",
              "0  Luke Skywalker    172   77\n",
              "1           C-3PO    167   75\n",
              "2           R2-D2     96   32\n",
              "3     Darth Vader    202  136\n",
              "4     Leia Organa    150   49"
            ],
            "text/html": [
              "\n",
              "  <div id=\"df-2e9297c2-cc01-47da-bcc8-6c88a204c41b\" class=\"colab-df-container\">\n",
              "    <div>\n",
              "<style scoped>\n",
              "    .dataframe tbody tr th:only-of-type {\n",
              "        vertical-align: middle;\n",
              "    }\n",
              "\n",
              "    .dataframe tbody tr th {\n",
              "        vertical-align: top;\n",
              "    }\n",
              "\n",
              "    .dataframe thead th {\n",
              "        text-align: right;\n",
              "    }\n",
              "</style>\n",
              "<table border=\"1\" class=\"dataframe\">\n",
              "  <thead>\n",
              "    <tr style=\"text-align: right;\">\n",
              "      <th></th>\n",
              "      <th>name</th>\n",
              "      <th>height</th>\n",
              "      <th>mass</th>\n",
              "    </tr>\n",
              "  </thead>\n",
              "  <tbody>\n",
              "    <tr>\n",
              "      <th>0</th>\n",
              "      <td>Luke Skywalker</td>\n",
              "      <td>172</td>\n",
              "      <td>77</td>\n",
              "    </tr>\n",
              "    <tr>\n",
              "      <th>1</th>\n",
              "      <td>C-3PO</td>\n",
              "      <td>167</td>\n",
              "      <td>75</td>\n",
              "    </tr>\n",
              "    <tr>\n",
              "      <th>2</th>\n",
              "      <td>R2-D2</td>\n",
              "      <td>96</td>\n",
              "      <td>32</td>\n",
              "    </tr>\n",
              "    <tr>\n",
              "      <th>3</th>\n",
              "      <td>Darth Vader</td>\n",
              "      <td>202</td>\n",
              "      <td>136</td>\n",
              "    </tr>\n",
              "    <tr>\n",
              "      <th>4</th>\n",
              "      <td>Leia Organa</td>\n",
              "      <td>150</td>\n",
              "      <td>49</td>\n",
              "    </tr>\n",
              "  </tbody>\n",
              "</table>\n",
              "</div>\n",
              "    <div class=\"colab-df-buttons\">\n",
              "\n",
              "  <div class=\"colab-df-container\">\n",
              "    <button class=\"colab-df-convert\" onclick=\"convertToInteractive('df-2e9297c2-cc01-47da-bcc8-6c88a204c41b')\"\n",
              "            title=\"Convert this dataframe to an interactive table.\"\n",
              "            style=\"display:none;\">\n",
              "\n",
              "  <svg xmlns=\"http://www.w3.org/2000/svg\" height=\"24px\" viewBox=\"0 -960 960 960\">\n",
              "    <path d=\"M120-120v-720h720v720H120Zm60-500h600v-160H180v160Zm220 220h160v-160H400v160Zm0 220h160v-160H400v160ZM180-400h160v-160H180v160Zm440 0h160v-160H620v160ZM180-180h160v-160H180v160Zm440 0h160v-160H620v160Z\"/>\n",
              "  </svg>\n",
              "    </button>\n",
              "\n",
              "  <style>\n",
              "    .colab-df-container {\n",
              "      display:flex;\n",
              "      gap: 12px;\n",
              "    }\n",
              "\n",
              "    .colab-df-convert {\n",
              "      background-color: #E8F0FE;\n",
              "      border: none;\n",
              "      border-radius: 50%;\n",
              "      cursor: pointer;\n",
              "      display: none;\n",
              "      fill: #1967D2;\n",
              "      height: 32px;\n",
              "      padding: 0 0 0 0;\n",
              "      width: 32px;\n",
              "    }\n",
              "\n",
              "    .colab-df-convert:hover {\n",
              "      background-color: #E2EBFA;\n",
              "      box-shadow: 0px 1px 2px rgba(60, 64, 67, 0.3), 0px 1px 3px 1px rgba(60, 64, 67, 0.15);\n",
              "      fill: #174EA6;\n",
              "    }\n",
              "\n",
              "    .colab-df-buttons div {\n",
              "      margin-bottom: 4px;\n",
              "    }\n",
              "\n",
              "    [theme=dark] .colab-df-convert {\n",
              "      background-color: #3B4455;\n",
              "      fill: #D2E3FC;\n",
              "    }\n",
              "\n",
              "    [theme=dark] .colab-df-convert:hover {\n",
              "      background-color: #434B5C;\n",
              "      box-shadow: 0px 1px 3px 1px rgba(0, 0, 0, 0.15);\n",
              "      filter: drop-shadow(0px 1px 2px rgba(0, 0, 0, 0.3));\n",
              "      fill: #FFFFFF;\n",
              "    }\n",
              "  </style>\n",
              "\n",
              "    <script>\n",
              "      const buttonEl =\n",
              "        document.querySelector('#df-2e9297c2-cc01-47da-bcc8-6c88a204c41b button.colab-df-convert');\n",
              "      buttonEl.style.display =\n",
              "        google.colab.kernel.accessAllowed ? 'block' : 'none';\n",
              "\n",
              "      async function convertToInteractive(key) {\n",
              "        const element = document.querySelector('#df-2e9297c2-cc01-47da-bcc8-6c88a204c41b');\n",
              "        const dataTable =\n",
              "          await google.colab.kernel.invokeFunction('convertToInteractive',\n",
              "                                                    [key], {});\n",
              "        if (!dataTable) return;\n",
              "\n",
              "        const docLinkHtml = 'Like what you see? Visit the ' +\n",
              "          '<a target=\"_blank\" href=https://colab.research.google.com/notebooks/data_table.ipynb>data table notebook</a>'\n",
              "          + ' to learn more about interactive tables.';\n",
              "        element.innerHTML = '';\n",
              "        dataTable['output_type'] = 'display_data';\n",
              "        await google.colab.output.renderOutput(dataTable, element);\n",
              "        const docLink = document.createElement('div');\n",
              "        docLink.innerHTML = docLinkHtml;\n",
              "        element.appendChild(docLink);\n",
              "      }\n",
              "    </script>\n",
              "  </div>\n",
              "\n",
              "\n",
              "    <div id=\"df-ce96b282-1b78-4a70-b0a3-cb952195587f\">\n",
              "      <button class=\"colab-df-quickchart\" onclick=\"quickchart('df-ce96b282-1b78-4a70-b0a3-cb952195587f')\"\n",
              "                title=\"Suggest charts\"\n",
              "                style=\"display:none;\">\n",
              "\n",
              "<svg xmlns=\"http://www.w3.org/2000/svg\" height=\"24px\"viewBox=\"0 0 24 24\"\n",
              "     width=\"24px\">\n",
              "    <g>\n",
              "        <path d=\"M19 3H5c-1.1 0-2 .9-2 2v14c0 1.1.9 2 2 2h14c1.1 0 2-.9 2-2V5c0-1.1-.9-2-2-2zM9 17H7v-7h2v7zm4 0h-2V7h2v10zm4 0h-2v-4h2v4z\"/>\n",
              "    </g>\n",
              "</svg>\n",
              "      </button>\n",
              "\n",
              "<style>\n",
              "  .colab-df-quickchart {\n",
              "      --bg-color: #E8F0FE;\n",
              "      --fill-color: #1967D2;\n",
              "      --hover-bg-color: #E2EBFA;\n",
              "      --hover-fill-color: #174EA6;\n",
              "      --disabled-fill-color: #AAA;\n",
              "      --disabled-bg-color: #DDD;\n",
              "  }\n",
              "\n",
              "  [theme=dark] .colab-df-quickchart {\n",
              "      --bg-color: #3B4455;\n",
              "      --fill-color: #D2E3FC;\n",
              "      --hover-bg-color: #434B5C;\n",
              "      --hover-fill-color: #FFFFFF;\n",
              "      --disabled-bg-color: #3B4455;\n",
              "      --disabled-fill-color: #666;\n",
              "  }\n",
              "\n",
              "  .colab-df-quickchart {\n",
              "    background-color: var(--bg-color);\n",
              "    border: none;\n",
              "    border-radius: 50%;\n",
              "    cursor: pointer;\n",
              "    display: none;\n",
              "    fill: var(--fill-color);\n",
              "    height: 32px;\n",
              "    padding: 0;\n",
              "    width: 32px;\n",
              "  }\n",
              "\n",
              "  .colab-df-quickchart:hover {\n",
              "    background-color: var(--hover-bg-color);\n",
              "    box-shadow: 0 1px 2px rgba(60, 64, 67, 0.3), 0 1px 3px 1px rgba(60, 64, 67, 0.15);\n",
              "    fill: var(--button-hover-fill-color);\n",
              "  }\n",
              "\n",
              "  .colab-df-quickchart-complete:disabled,\n",
              "  .colab-df-quickchart-complete:disabled:hover {\n",
              "    background-color: var(--disabled-bg-color);\n",
              "    fill: var(--disabled-fill-color);\n",
              "    box-shadow: none;\n",
              "  }\n",
              "\n",
              "  .colab-df-spinner {\n",
              "    border: 2px solid var(--fill-color);\n",
              "    border-color: transparent;\n",
              "    border-bottom-color: var(--fill-color);\n",
              "    animation:\n",
              "      spin 1s steps(1) infinite;\n",
              "  }\n",
              "\n",
              "  @keyframes spin {\n",
              "    0% {\n",
              "      border-color: transparent;\n",
              "      border-bottom-color: var(--fill-color);\n",
              "      border-left-color: var(--fill-color);\n",
              "    }\n",
              "    20% {\n",
              "      border-color: transparent;\n",
              "      border-left-color: var(--fill-color);\n",
              "      border-top-color: var(--fill-color);\n",
              "    }\n",
              "    30% {\n",
              "      border-color: transparent;\n",
              "      border-left-color: var(--fill-color);\n",
              "      border-top-color: var(--fill-color);\n",
              "      border-right-color: var(--fill-color);\n",
              "    }\n",
              "    40% {\n",
              "      border-color: transparent;\n",
              "      border-right-color: var(--fill-color);\n",
              "      border-top-color: var(--fill-color);\n",
              "    }\n",
              "    60% {\n",
              "      border-color: transparent;\n",
              "      border-right-color: var(--fill-color);\n",
              "    }\n",
              "    80% {\n",
              "      border-color: transparent;\n",
              "      border-right-color: var(--fill-color);\n",
              "      border-bottom-color: var(--fill-color);\n",
              "    }\n",
              "    90% {\n",
              "      border-color: transparent;\n",
              "      border-bottom-color: var(--fill-color);\n",
              "    }\n",
              "  }\n",
              "</style>\n",
              "\n",
              "      <script>\n",
              "        async function quickchart(key) {\n",
              "          const quickchartButtonEl =\n",
              "            document.querySelector('#' + key + ' button');\n",
              "          quickchartButtonEl.disabled = true;  // To prevent multiple clicks.\n",
              "          quickchartButtonEl.classList.add('colab-df-spinner');\n",
              "          try {\n",
              "            const charts = await google.colab.kernel.invokeFunction(\n",
              "                'suggestCharts', [key], {});\n",
              "          } catch (error) {\n",
              "            console.error('Error during call to suggestCharts:', error);\n",
              "          }\n",
              "          quickchartButtonEl.classList.remove('colab-df-spinner');\n",
              "          quickchartButtonEl.classList.add('colab-df-quickchart-complete');\n",
              "        }\n",
              "        (() => {\n",
              "          let quickchartButtonEl =\n",
              "            document.querySelector('#df-ce96b282-1b78-4a70-b0a3-cb952195587f button');\n",
              "          quickchartButtonEl.style.display =\n",
              "            google.colab.kernel.accessAllowed ? 'block' : 'none';\n",
              "        })();\n",
              "      </script>\n",
              "    </div>\n",
              "\n",
              "  <div id=\"id_24919a10-13d8-46d0-b904-1ff2c0acb925\">\n",
              "    <style>\n",
              "      .colab-df-generate {\n",
              "        background-color: #E8F0FE;\n",
              "        border: none;\n",
              "        border-radius: 50%;\n",
              "        cursor: pointer;\n",
              "        display: none;\n",
              "        fill: #1967D2;\n",
              "        height: 32px;\n",
              "        padding: 0 0 0 0;\n",
              "        width: 32px;\n",
              "      }\n",
              "\n",
              "      .colab-df-generate:hover {\n",
              "        background-color: #E2EBFA;\n",
              "        box-shadow: 0px 1px 2px rgba(60, 64, 67, 0.3), 0px 1px 3px 1px rgba(60, 64, 67, 0.15);\n",
              "        fill: #174EA6;\n",
              "      }\n",
              "\n",
              "      [theme=dark] .colab-df-generate {\n",
              "        background-color: #3B4455;\n",
              "        fill: #D2E3FC;\n",
              "      }\n",
              "\n",
              "      [theme=dark] .colab-df-generate:hover {\n",
              "        background-color: #434B5C;\n",
              "        box-shadow: 0px 1px 3px 1px rgba(0, 0, 0, 0.15);\n",
              "        filter: drop-shadow(0px 1px 2px rgba(0, 0, 0, 0.3));\n",
              "        fill: #FFFFFF;\n",
              "      }\n",
              "    </style>\n",
              "    <button class=\"colab-df-generate\" onclick=\"generateWithVariable('df')\"\n",
              "            title=\"Generate code using this dataframe.\"\n",
              "            style=\"display:none;\">\n",
              "\n",
              "  <svg xmlns=\"http://www.w3.org/2000/svg\" height=\"24px\"viewBox=\"0 0 24 24\"\n",
              "       width=\"24px\">\n",
              "    <path d=\"M7,19H8.4L18.45,9,17,7.55,7,17.6ZM5,21V16.75L18.45,3.32a2,2,0,0,1,2.83,0l1.4,1.43a1.91,1.91,0,0,1,.58,1.4,1.91,1.91,0,0,1-.58,1.4L9.25,21ZM18.45,9,17,7.55Zm-12,3A5.31,5.31,0,0,0,4.9,8.1,5.31,5.31,0,0,0,1,6.5,5.31,5.31,0,0,0,4.9,4.9,5.31,5.31,0,0,0,6.5,1,5.31,5.31,0,0,0,8.1,4.9,5.31,5.31,0,0,0,12,6.5,5.46,5.46,0,0,0,6.5,12Z\"/>\n",
              "  </svg>\n",
              "    </button>\n",
              "    <script>\n",
              "      (() => {\n",
              "      const buttonEl =\n",
              "        document.querySelector('#id_24919a10-13d8-46d0-b904-1ff2c0acb925 button.colab-df-generate');\n",
              "      buttonEl.style.display =\n",
              "        google.colab.kernel.accessAllowed ? 'block' : 'none';\n",
              "\n",
              "      buttonEl.onclick = () => {\n",
              "        google.colab.notebook.generateWithVariable('df');\n",
              "      }\n",
              "      })();\n",
              "    </script>\n",
              "  </div>\n",
              "\n",
              "    </div>\n",
              "  </div>\n"
            ],
            "application/vnd.google.colaboratory.intrinsic+json": {
              "type": "dataframe",
              "variable_name": "df",
              "summary": "{\n  \"name\": \"df\",\n  \"rows\": 5,\n  \"fields\": [\n    {\n      \"column\": \"name\",\n      \"properties\": {\n        \"dtype\": \"string\",\n        \"num_unique_values\": 5,\n        \"samples\": [\n          \"C-3PO\",\n          \"Leia Organa\",\n          \"R2-D2\"\n        ],\n        \"semantic_type\": \"\",\n        \"description\": \"\"\n      }\n    },\n    {\n      \"column\": \"height\",\n      \"properties\": {\n        \"dtype\": \"string\",\n        \"num_unique_values\": 5,\n        \"samples\": [\n          \"167\",\n          \"150\",\n          \"96\"\n        ],\n        \"semantic_type\": \"\",\n        \"description\": \"\"\n      }\n    },\n    {\n      \"column\": \"mass\",\n      \"properties\": {\n        \"dtype\": \"string\",\n        \"num_unique_values\": 5,\n        \"samples\": [\n          \"75\",\n          \"49\",\n          \"32\"\n        ],\n        \"semantic_type\": \"\",\n        \"description\": \"\"\n      }\n    }\n  ]\n}"
            }
          },
          "metadata": {},
          "execution_count": 131
        }
      ]
    },
    {
      "cell_type": "markdown",
      "source": [
        "# Pandas , Numpy\n",
        "\n",
        "The most common for DA\n",
        "\n",
        "Numpy : numerical python (fast computation)"
      ],
      "metadata": {
        "id": "fyHbj0XsCA4-"
      }
    },
    {
      "cell_type": "code",
      "source": [
        "import numpy as np\n",
        "import pandas as pd"
      ],
      "metadata": {
        "id": "EX_D3g0E_4zZ"
      },
      "execution_count": null,
      "outputs": []
    },
    {
      "cell_type": "code",
      "source": [
        "list_a = [1,2,3,4,5,6,7,8,9,10]\n",
        "sum(list_a)"
      ],
      "metadata": {
        "colab": {
          "base_uri": "https://localhost:8080/"
        },
        "id": "_-JPQfyxC0_D",
        "outputId": "6da3e4e8-b541-4fe0-b195-2c276d410595"
      },
      "execution_count": null,
      "outputs": [
        {
          "output_type": "execute_result",
          "data": {
            "text/plain": [
              "55"
            ]
          },
          "metadata": {},
          "execution_count": 133
        }
      ]
    },
    {
      "cell_type": "code",
      "source": [
        "def sum_seq(lst) :\n",
        "  result = (lst[0] + lst[-1]) * lst[-1] / 2\n",
        "  return result"
      ],
      "metadata": {
        "id": "uAn5hXX9C9GW"
      },
      "execution_count": null,
      "outputs": []
    },
    {
      "cell_type": "code",
      "source": [
        "sum_seq(list_a)"
      ],
      "metadata": {
        "colab": {
          "base_uri": "https://localhost:8080/"
        },
        "id": "9RcUA-bmDUcQ",
        "outputId": "0dce1a90-52e4-406a-a86f-d10b003f6477"
      },
      "execution_count": null,
      "outputs": [
        {
          "output_type": "execute_result",
          "data": {
            "text/plain": [
              "55.0"
            ]
          },
          "metadata": {},
          "execution_count": 135
        }
      ]
    },
    {
      "cell_type": "code",
      "source": [
        "import numpy as np\n",
        "\n",
        "list_a = [1,2,3,4,5]\n",
        "np_a = np.array(list_a)\n",
        "np_a"
      ],
      "metadata": {
        "colab": {
          "base_uri": "https://localhost:8080/"
        },
        "id": "6jlOhibnDXyR",
        "outputId": "8f764a7e-bdf4-4381-d7fd-c29087a44d41"
      },
      "execution_count": null,
      "outputs": [
        {
          "output_type": "execute_result",
          "data": {
            "text/plain": [
              "array([1, 2, 3, 4, 5])"
            ]
          },
          "metadata": {},
          "execution_count": 137
        }
      ]
    },
    {
      "cell_type": "code",
      "source": [
        "print(\n",
        "    np.sum(np_a),\n",
        "    np.mean(np_a),\n",
        "    np.std(np_a),\n",
        "    np.median(np_a),\n",
        "    np.min(np_a),\n",
        "    np.max(np_a),\n",
        "    np.var(np_a)\n",
        ")"
      ],
      "metadata": {
        "colab": {
          "base_uri": "https://localhost:8080/"
        },
        "id": "rS11jkMTD0fo",
        "outputId": "0b7d4a1b-a632-4dfd-bf49-78dd475a9ac4"
      },
      "execution_count": null,
      "outputs": [
        {
          "output_type": "stream",
          "name": "stdout",
          "text": [
            "15 3.0 1.4142135623730951 3.0 1 5 2.0\n"
          ]
        }
      ]
    },
    {
      "cell_type": "code",
      "source": [
        "np_a.mean()"
      ],
      "metadata": {
        "colab": {
          "base_uri": "https://localhost:8080/"
        },
        "id": "TEaXKv44E-bc",
        "outputId": "72814503-4c9f-4884-9203-1ab93a3fdd57"
      },
      "execution_count": null,
      "outputs": [
        {
          "output_type": "execute_result",
          "data": {
            "text/plain": [
              "np.float64(3.0)"
            ]
          },
          "metadata": {},
          "execution_count": 143
        }
      ]
    },
    {
      "cell_type": "code",
      "source": [
        "## 2D array\n",
        "mat_a = np.array([\n",
        "    [1,2],\n",
        "    [3,4]\n",
        "])\n",
        "mat_a"
      ],
      "metadata": {
        "colab": {
          "base_uri": "https://localhost:8080/"
        },
        "id": "Kmx1MGzLFZHB",
        "outputId": "2fa78869-0a6b-4555-c3c4-6dfe29f87b0b"
      },
      "execution_count": null,
      "outputs": [
        {
          "output_type": "execute_result",
          "data": {
            "text/plain": [
              "array([[1, 2],\n",
              "       [3, 4]])"
            ]
          },
          "metadata": {},
          "execution_count": 145
        }
      ]
    },
    {
      "cell_type": "code",
      "source": [
        "mat_a + 2"
      ],
      "metadata": {
        "colab": {
          "base_uri": "https://localhost:8080/"
        },
        "id": "fcnUXp5UFryh",
        "outputId": "da360a5f-3d3e-4599-c0c9-64f1e77d0ca2"
      },
      "execution_count": null,
      "outputs": [
        {
          "output_type": "execute_result",
          "data": {
            "text/plain": [
              "array([[3, 4],\n",
              "       [5, 6]])"
            ]
          },
          "metadata": {},
          "execution_count": 147
        }
      ]
    },
    {
      "cell_type": "code",
      "source": [
        "mat_a[0]"
      ],
      "metadata": {
        "colab": {
          "base_uri": "https://localhost:8080/"
        },
        "id": "3DHcv3YXGl6e",
        "outputId": "9a1fe33a-9819-4a31-dbbb-ae87a4381eb5"
      },
      "execution_count": null,
      "outputs": [
        {
          "output_type": "execute_result",
          "data": {
            "text/plain": [
              "array([1, 2])"
            ]
          },
          "metadata": {},
          "execution_count": 148
        }
      ]
    },
    {
      "cell_type": "code",
      "source": [
        "mat_a[0,1]"
      ],
      "metadata": {
        "colab": {
          "base_uri": "https://localhost:8080/"
        },
        "id": "H8rPYixVG2St",
        "outputId": "f6c49c0d-bfe7-4a9e-cbf8-e45458aa60db"
      },
      "execution_count": null,
      "outputs": [
        {
          "output_type": "execute_result",
          "data": {
            "text/plain": [
              "np.int64(2)"
            ]
          },
          "metadata": {},
          "execution_count": 149
        }
      ]
    },
    {
      "cell_type": "code",
      "source": [
        "# dot matrix\n",
        "# matrix  multiplication\n",
        "mat_a = np.array([\n",
        "    [1,2],\n",
        "    [3,4]\n",
        "])\n",
        "mat_b = np.array([\n",
        "    [3,3],\n",
        "    [5,1]\n",
        "])\n",
        "np.dot(mat_a, mat_b)"
      ],
      "metadata": {
        "colab": {
          "base_uri": "https://localhost:8080/"
        },
        "id": "6kWkNPGNG_9P",
        "outputId": "d2088234-6d4f-4d4f-f209-47fbe34fc77a"
      },
      "execution_count": null,
      "outputs": [
        {
          "output_type": "execute_result",
          "data": {
            "text/plain": [
              "array([[13,  5],\n",
              "       [29, 13]])"
            ]
          },
          "metadata": {},
          "execution_count": 150
        }
      ]
    },
    {
      "cell_type": "code",
      "source": [
        "txt = \"Hello Mickey!\"\n",
        "x = txt.casefold()\n",
        "print(x)"
      ],
      "metadata": {
        "colab": {
          "base_uri": "https://localhost:8080/"
        },
        "id": "hBHcvHN0KW4o",
        "outputId": "d439641e-e27a-467f-d897-2222e3352ce2"
      },
      "execution_count": null,
      "outputs": [
        {
          "output_type": "stream",
          "name": "stdout",
          "text": [
            "hello mickey!\n"
          ]
        }
      ]
    },
    {
      "cell_type": "code",
      "source": [
        " fruits = ['apple', 'banana', 'cherry']\n",
        " fruits.pop(2)\n",
        " print(fruits)"
      ],
      "metadata": {
        "colab": {
          "base_uri": "https://localhost:8080/"
        },
        "id": "mr1wbkZyLrjy",
        "outputId": "f0e76a61-9431-4711-8e49-c7a690d57604"
      },
      "execution_count": null,
      "outputs": [
        {
          "output_type": "stream",
          "name": "stdout",
          "text": [
            "['apple', 'banana']\n"
          ]
        }
      ]
    },
    {
      "cell_type": "code",
      "source": [
        "print(\"Hello\", \"how are you?\", sep=\"---\")"
      ],
      "metadata": {
        "colab": {
          "base_uri": "https://localhost:8080/"
        },
        "id": "-6G_ynoPMABm",
        "outputId": "b533dfd3-c07a-4a4f-f5bc-98795a1f407d"
      },
      "execution_count": null,
      "outputs": [
        {
          "output_type": "stream",
          "name": "stdout",
          "text": [
            "Hello---how are you?\n"
          ]
        }
      ]
    },
    {
      "cell_type": "code",
      "source": [
        "x = \"5\"\n",
        "y = \"5\"\n",
        "print(x + y)"
      ],
      "metadata": {
        "colab": {
          "base_uri": "https://localhost:8080/"
        },
        "id": "xAPhVuhOPdsu",
        "outputId": "405b2aba-ea99-4ff3-9e7c-0b37946a8d71"
      },
      "execution_count": null,
      "outputs": [
        {
          "output_type": "stream",
          "name": "stdout",
          "text": [
            "55\n"
          ]
        }
      ]
    },
    {
      "cell_type": "code",
      "source": [
        "txt = \"hello, and welcome to my world.\"\n",
        "x = txt.title()\n",
        "print (x)"
      ],
      "metadata": {
        "colab": {
          "base_uri": "https://localhost:8080/"
        },
        "id": "bXManJ9NP3_s",
        "outputId": "79ca358c-eb68-4013-9db9-fcfdb876735c"
      },
      "execution_count": null,
      "outputs": [
        {
          "output_type": "stream",
          "name": "stdout",
          "text": [
            "Hello, And Welcome To My World.\n"
          ]
        }
      ]
    },
    {
      "cell_type": "code",
      "source": [
        "print(\"Python\",\"is\",\"awesome\")"
      ],
      "metadata": {
        "colab": {
          "base_uri": "https://localhost:8080/"
        },
        "id": "y0QNlIAjQGVh",
        "outputId": "dd457faa-6d06-447e-fcad-58cd909b89eb"
      },
      "execution_count": null,
      "outputs": [
        {
          "output_type": "stream",
          "name": "stdout",
          "text": [
            "Python is awesome\n"
          ]
        }
      ]
    },
    {
      "cell_type": "code",
      "source": [
        "\n",
        "x = int(5)\n",
        "x"
      ],
      "metadata": {
        "colab": {
          "base_uri": "https://localhost:8080/"
        },
        "id": "FSZ5N0ItRQKu",
        "outputId": "45da5916-fb69-4a10-d13c-ccee9b2748b3"
      },
      "execution_count": null,
      "outputs": [
        {
          "output_type": "execute_result",
          "data": {
            "text/plain": [
              "5"
            ]
          },
          "metadata": {},
          "execution_count": 160
        }
      ]
    },
    {
      "cell_type": "code",
      "source": [
        "x = \"Hello\"[0]\n",
        "x"
      ],
      "metadata": {
        "colab": {
          "base_uri": "https://localhost:8080/",
          "height": 35
        },
        "id": "fUmvLCD1SBrQ",
        "outputId": "028d3b15-fa81-4738-d1b2-aaf96cbc2422"
      },
      "execution_count": null,
      "outputs": [
        {
          "output_type": "execute_result",
          "data": {
            "text/plain": [
              "'H'"
            ],
            "application/vnd.google.colaboratory.intrinsic+json": {
              "type": "string"
            }
          },
          "metadata": {},
          "execution_count": 162
        }
      ]
    },
    {
      "cell_type": "code",
      "source": [
        "txt = \"hello, and welcome to my world.\"\n",
        "x = txt.capitalize()\n",
        "print (x)"
      ],
      "metadata": {
        "colab": {
          "base_uri": "https://localhost:8080/"
        },
        "id": "uypUUhcCSkPK",
        "outputId": "e25396d1-9986-486d-bf40-0caa893f0662"
      },
      "execution_count": null,
      "outputs": [
        {
          "output_type": "stream",
          "name": "stdout",
          "text": [
            "Hello, and welcome to my world.\n"
          ]
        }
      ]
    },
    {
      "cell_type": "markdown",
      "source": [
        "# Essential Python for DA part 2\n",
        "\n",
        "## special topics in python"
      ],
      "metadata": {
        "id": "914F4c3XuT9w"
      }
    },
    {
      "cell_type": "code",
      "source": [
        "## type hint\n",
        "name : str = \"Faii\"\n",
        "age : int = 26\n",
        "gpa : float = 3.27\n",
        "netflix : bool = True"
      ],
      "metadata": {
        "id": "CRnAPbB5Swqz"
      },
      "execution_count": null,
      "outputs": []
    },
    {
      "cell_type": "code",
      "source": [
        "type(age), type(gpa), type(name), type(netflix)"
      ],
      "metadata": {
        "colab": {
          "base_uri": "https://localhost:8080/"
        },
        "id": "_X9U6FvBw4oE",
        "outputId": "2fe827e2-d83d-4474-9b40-a00bb6a5345f"
      },
      "execution_count": null,
      "outputs": [
        {
          "output_type": "execute_result",
          "data": {
            "text/plain": [
              "(int, float, str, bool)"
            ]
          },
          "metadata": {},
          "execution_count": 2
        }
      ]
    },
    {
      "cell_type": "code",
      "source": [
        "#type hint in function\n",
        "def add(a : int, b : int) -> int :\n",
        "  return a + b\n",
        "\n",
        "add(5,7)"
      ],
      "metadata": {
        "id": "Q4Cqwr6UxBDJ",
        "colab": {
          "base_uri": "https://localhost:8080/"
        },
        "outputId": "d409d1d5-3506-4b51-dfa7-5b054e577288"
      },
      "execution_count": null,
      "outputs": [
        {
          "output_type": "execute_result",
          "data": {
            "text/plain": [
              "12"
            ]
          },
          "metadata": {},
          "execution_count": 4
        }
      ]
    },
    {
      "cell_type": "code",
      "source": [
        "from typing import List"
      ],
      "metadata": {
        "id": "YBuGoJihBxbp"
      },
      "execution_count": null,
      "outputs": []
    },
    {
      "cell_type": "code",
      "source": [
        "friends : List[str] = [\"Faii\", \"Toy\", \"Mook\"]\n",
        "\n",
        "for f in friends :\n",
        "  print(f\"Hi! my name is {f}\")"
      ],
      "metadata": {
        "colab": {
          "base_uri": "https://localhost:8080/"
        },
        "id": "fBU-uEImCmYe",
        "outputId": "a2b1daee-1c3c-4373-f8fc-b0e242c4ff1e"
      },
      "execution_count": null,
      "outputs": [
        {
          "output_type": "stream",
          "name": "stdout",
          "text": [
            "Hi! my name is Faii\n",
            "Hi! my name is Toy\n",
            "Hi! my name is Mook\n"
          ]
        }
      ]
    },
    {
      "cell_type": "code",
      "source": [
        "add_lambda = lambda a,b : a+b\n",
        "\n",
        "add_lambda(1,2)"
      ],
      "metadata": {
        "colab": {
          "base_uri": "https://localhost:8080/"
        },
        "id": "ZjJmsTFwDCoS",
        "outputId": "90189256-9c0d-4a3f-c279-87b2842a670b"
      },
      "execution_count": null,
      "outputs": [
        {
          "output_type": "execute_result",
          "data": {
            "text/plain": [
              "3"
            ]
          },
          "metadata": {},
          "execution_count": 7
        }
      ]
    },
    {
      "cell_type": "code",
      "source": [
        "result = []\n",
        "original = [1,2,3,4,5]\n",
        "\n",
        "for number in original :\n",
        "  result.append(number * 2)\n",
        "\n",
        "result"
      ],
      "metadata": {
        "colab": {
          "base_uri": "https://localhost:8080/"
        },
        "id": "gsCDDOOjD-it",
        "outputId": "3a8e08c5-5237-45a9-d6fd-81588fc331f5"
      },
      "execution_count": null,
      "outputs": [
        {
          "output_type": "execute_result",
          "data": {
            "text/plain": [
              "[2, 4, 6, 8, 10]"
            ]
          },
          "metadata": {},
          "execution_count": 8
        }
      ]
    },
    {
      "cell_type": "code",
      "source": [
        "original = [1,2,3,4,5]\n",
        "\n",
        "[number * 2 for number in original]"
      ],
      "metadata": {
        "colab": {
          "base_uri": "https://localhost:8080/"
        },
        "id": "-n0vv-hCFb29",
        "outputId": "7ece96d3-b8fd-484a-8730-b1fc88a1bd9c"
      },
      "execution_count": null,
      "outputs": [
        {
          "output_type": "execute_result",
          "data": {
            "text/plain": [
              "[2, 4, 6, 8, 10]"
            ]
          },
          "metadata": {},
          "execution_count": 9
        }
      ]
    },
    {
      "cell_type": "code",
      "source": [
        "scores = [55, 45, 80, 87, 99]\n",
        "\n",
        "[\"passed\" if score >= 80 else \"failed\"\n",
        "  for score in scores]"
      ],
      "metadata": {
        "colab": {
          "base_uri": "https://localhost:8080/"
        },
        "id": "NGtT2NH-FxlI",
        "outputId": "b9a69ece-cc31-40f9-d210-464acc17d22a"
      },
      "execution_count": null,
      "outputs": [
        {
          "output_type": "execute_result",
          "data": {
            "text/plain": [
              "['failed', 'failed', 'passed', 'passed', 'passed']"
            ]
          },
          "metadata": {},
          "execution_count": 10
        }
      ]
    },
    {
      "cell_type": "code",
      "source": [
        "try :\n",
        "  result = 1/0\n",
        "  print(result)\n",
        "except :\n",
        "  print(\"cannot divide by zero\")"
      ],
      "metadata": {
        "colab": {
          "base_uri": "https://localhost:8080/"
        },
        "id": "eiqHYOcOGrXj",
        "outputId": "6457c395-1336-4a40-f41b-eeff89efffc3"
      },
      "execution_count": null,
      "outputs": [
        {
          "output_type": "stream",
          "name": "stdout",
          "text": [
            "cannot divide by zero\n"
          ]
        }
      ]
    },
    {
      "cell_type": "code",
      "source": [
        "eiei = 5\n",
        "\n",
        "try:\n",
        "  print(eieirrrrrrrrrrrrrr)\n",
        "except NameError:\n",
        "  print(\"pks recheck your data name\")\n",
        "except ZeroDivisionError:\n",
        "  print(\"cannot divide by zero\")\n",
        "except ValueError:\n",
        "  print(\"something went wrong with value\")\n",
        "else:\n",
        "  print(\"the value is printed\")\n",
        "finally:\n",
        "  print(\"ended\")"
      ],
      "metadata": {
        "colab": {
          "base_uri": "https://localhost:8080/"
        },
        "id": "-wq_oa-PIC8H",
        "outputId": "13798289-26ed-431b-dbaa-77714c80d53d"
      },
      "execution_count": null,
      "outputs": [
        {
          "output_type": "stream",
          "name": "stdout",
          "text": [
            "pks recheck your data name\n",
            "ended\n"
          ]
        }
      ]
    },
    {
      "cell_type": "code",
      "source": [
        "!cat hotel.csv"
      ],
      "metadata": {
        "colab": {
          "base_uri": "https://localhost:8080/"
        },
        "id": "EXvlYAGTJT68",
        "outputId": "a1bdfbc0-5500-4058-b631-d8a62ceebc44"
      },
      "execution_count": null,
      "outputs": [
        {
          "output_type": "stream",
          "name": "stdout",
          "text": [
            "id,hotel,price,location\r\n",
            "1,A,1000,NW\r\n",
            "2,B,2000,CNX\r\n",
            "3,C,3500,BKK\r\n",
            "4,D,4400,BKK\r\n"
          ]
        }
      ]
    },
    {
      "cell_type": "code",
      "source": [
        "import csv\n",
        "file = open(\"hotel.csv\", \"r\")"
      ],
      "metadata": {
        "id": "Eahw5rGkOUIy"
      },
      "execution_count": null,
      "outputs": []
    },
    {
      "cell_type": "code",
      "source": [
        "data = csv.reader(file)\n",
        "\n",
        "for row in data :\n",
        "  print(row)"
      ],
      "metadata": {
        "colab": {
          "base_uri": "https://localhost:8080/"
        },
        "id": "WJMIGZMfOqvW",
        "outputId": "8eaa66f0-5dd4-411e-f8b2-cd011f2832a0"
      },
      "execution_count": null,
      "outputs": [
        {
          "output_type": "stream",
          "name": "stdout",
          "text": [
            "['id', 'hotel', 'price', 'location']\n",
            "['1', 'A', '1000', 'NW']\n",
            "['2', 'B', '2000', 'CNX']\n",
            "['3', 'C', '3500', 'BKK']\n",
            "['4', 'D', '4400', 'BKK']\n"
          ]
        }
      ]
    },
    {
      "cell_type": "code",
      "source": [
        "with open(\"hotel.csv\", \"r\") as file :\n",
        "  data = csv.reader(file)\n",
        "  for row in data :\n",
        "    print(row)"
      ],
      "metadata": {
        "colab": {
          "base_uri": "https://localhost:8080/"
        },
        "id": "JjkqwSq4PlVp",
        "outputId": "9de4b431-108c-49c2-eeee-6bc03671566f"
      },
      "execution_count": null,
      "outputs": [
        {
          "output_type": "stream",
          "name": "stdout",
          "text": [
            "['id', 'hotel', 'price', 'location']\n",
            "['1', 'A', '1000', 'NW']\n",
            "['2', 'B', '2000', 'CNX']\n",
            "['3', 'C', '3500', 'BKK']\n",
            "['4', 'D', '4400', 'BKK']\n"
          ]
        }
      ]
    },
    {
      "cell_type": "code",
      "source": [
        "import csv\n",
        "header = [\"id\", \"student_name\", \"age\"]\n",
        "body = [\n",
        "    [1, \"Faii\", 26],\n",
        "    [2, \"Mook\", 27],\n",
        "    [3, \"Tang\", 25]\n",
        "]\n",
        "\n",
        "with open(\"new_file.csv\", \"w\") as file:\n",
        "  writer = csv.writer(file)\n",
        "  writer.writerow(header)\n",
        "  writer.writerows(body)\n",
        "\n",
        "!cat new_file.csv"
      ],
      "metadata": {
        "colab": {
          "base_uri": "https://localhost:8080/"
        },
        "id": "v2PJYyTYQxBj",
        "outputId": "06c4ca4d-379b-4c8e-9be9-28b2ff39fd5e"
      },
      "execution_count": null,
      "outputs": [
        {
          "output_type": "stream",
          "name": "stdout",
          "text": [
            "id,student_name,age\r\n",
            "1,Faii,26\r\n",
            "2,Mook,27\r\n",
            "3,Tang,25\r\n"
          ]
        }
      ]
    },
    {
      "cell_type": "code",
      "source": [
        "try :\n",
        "  with open(\"new_file.csv\", \"r\") as file :\n",
        "    data = csv.reader(file)\n",
        "    for row in data :\n",
        "      print(row)\n",
        "except FileNotFoundError :\n",
        "  print(\"file not found\")"
      ],
      "metadata": {
        "colab": {
          "base_uri": "https://localhost:8080/"
        },
        "id": "jLAGl8PtS9Jy",
        "outputId": "ed50fb63-5fcf-4a81-be53-032bbbe6c57a"
      },
      "execution_count": null,
      "outputs": [
        {
          "output_type": "stream",
          "name": "stdout",
          "text": [
            "['id', 'student_name', 'age']\n",
            "['1', 'Faii', '26']\n",
            "['2', 'Mook', '27']\n",
            "['3', 'Tang', '25']\n"
          ]
        }
      ]
    },
    {
      "cell_type": "code",
      "source": [
        "x = [1, 2, 3]\n",
        "y = x\n",
        "y[1] = 10\n",
        "print(x)"
      ],
      "metadata": {
        "id": "au9Qnammf6i0",
        "outputId": "46337462-7bd7-48aa-f1ab-664d0cb2a04c",
        "colab": {
          "base_uri": "https://localhost:8080/"
        }
      },
      "execution_count": null,
      "outputs": [
        {
          "output_type": "stream",
          "name": "stdout",
          "text": [
            "[1, 10, 3]\n"
          ]
        }
      ]
    },
    {
      "cell_type": "code",
      "source": [],
      "metadata": {
        "id": "HBfQ8TmSm_OF"
      },
      "execution_count": null,
      "outputs": []
    }
  ]
}